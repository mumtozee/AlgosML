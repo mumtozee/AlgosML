{
  "cells": [
    {
      "cell_type": "code",
      "execution_count": 1,
      "metadata": {
        "id": "XF3hsKHDGa3X"
      },
      "outputs": [],
      "source": [
        "import pandas as pd\n",
        "import numpy as np\n",
        "import matplotlib.pyplot as plt\n",
        "import seaborn as sns\n",
        "import scipy.stats as sps\n",
        "from numpy.typing import ArrayLike\n",
        "\n",
        "import typing as tp\n",
        "import gc\n",
        "\n",
        "%matplotlib inline"
      ]
    },
    {
      "cell_type": "code",
      "execution_count": 2,
      "metadata": {
        "id": "ch8TWW9Agrwj"
      },
      "outputs": [],
      "source": [
        "K = 20\n",
        "SEED = 123\n",
        "np.random.seed(SEED)"
      ]
    },
    {
      "attachments": {},
      "cell_type": "markdown",
      "metadata": {
        "id": "5CDKXxINGa3X"
      },
      "source": [
        "# DATA & EDA"
      ]
    },
    {
      "cell_type": "code",
      "execution_count": 4,
      "metadata": {
        "id": "3sAjB4bRHKFG"
      },
      "outputs": [],
      "source": [
        "# ! pip install rs-datasets"
      ]
    },
    {
      "cell_type": "code",
      "execution_count": 3,
      "metadata": {
        "colab": {
          "base_uri": "https://localhost:8080/",
          "height": 17
        },
        "id": "H_Kc_-ZAn0mv",
        "outputId": "1d92eaf8-6232-4778-9601-b5fbc3fc3bc2"
      },
      "outputs": [],
      "source": [
        "from rs_datasets import MovieLens"
      ]
    },
    {
      "cell_type": "code",
      "execution_count": 4,
      "metadata": {
        "colab": {
          "base_uri": "https://localhost:8080/",
          "height": 539
        },
        "id": "X2wCtbukn5KH",
        "outputId": "c52a5d1e-12a3-4912-c5a4-f7efb563afe6"
      },
      "outputs": [
        {
          "name": "stdout",
          "output_type": "stream",
          "text": [
            "ratings\n"
          ]
        },
        {
          "data": {
            "text/html": [
              "<div>\n",
              "<style scoped>\n",
              "    .dataframe tbody tr th:only-of-type {\n",
              "        vertical-align: middle;\n",
              "    }\n",
              "\n",
              "    .dataframe tbody tr th {\n",
              "        vertical-align: top;\n",
              "    }\n",
              "\n",
              "    .dataframe thead th {\n",
              "        text-align: right;\n",
              "    }\n",
              "</style>\n",
              "<table border=\"1\" class=\"dataframe\">\n",
              "  <thead>\n",
              "    <tr style=\"text-align: right;\">\n",
              "      <th></th>\n",
              "      <th>user_id</th>\n",
              "      <th>item_id</th>\n",
              "      <th>rating</th>\n",
              "      <th>timestamp</th>\n",
              "    </tr>\n",
              "  </thead>\n",
              "  <tbody>\n",
              "    <tr>\n",
              "      <th>0</th>\n",
              "      <td>1</td>\n",
              "      <td>1193</td>\n",
              "      <td>5</td>\n",
              "      <td>978300760</td>\n",
              "    </tr>\n",
              "    <tr>\n",
              "      <th>1</th>\n",
              "      <td>1</td>\n",
              "      <td>661</td>\n",
              "      <td>3</td>\n",
              "      <td>978302109</td>\n",
              "    </tr>\n",
              "    <tr>\n",
              "      <th>2</th>\n",
              "      <td>1</td>\n",
              "      <td>914</td>\n",
              "      <td>3</td>\n",
              "      <td>978301968</td>\n",
              "    </tr>\n",
              "  </tbody>\n",
              "</table>\n",
              "</div>"
            ],
            "text/plain": [
              "   user_id  item_id  rating  timestamp\n",
              "0        1     1193       5  978300760\n",
              "1        1      661       3  978302109\n",
              "2        1      914       3  978301968"
            ]
          },
          "metadata": {},
          "output_type": "display_data"
        },
        {
          "name": "stdout",
          "output_type": "stream",
          "text": [
            "\n",
            "users\n"
          ]
        },
        {
          "data": {
            "text/html": [
              "<div>\n",
              "<style scoped>\n",
              "    .dataframe tbody tr th:only-of-type {\n",
              "        vertical-align: middle;\n",
              "    }\n",
              "\n",
              "    .dataframe tbody tr th {\n",
              "        vertical-align: top;\n",
              "    }\n",
              "\n",
              "    .dataframe thead th {\n",
              "        text-align: right;\n",
              "    }\n",
              "</style>\n",
              "<table border=\"1\" class=\"dataframe\">\n",
              "  <thead>\n",
              "    <tr style=\"text-align: right;\">\n",
              "      <th></th>\n",
              "      <th>user_id</th>\n",
              "      <th>gender</th>\n",
              "      <th>age</th>\n",
              "      <th>occupation</th>\n",
              "      <th>zip_code</th>\n",
              "    </tr>\n",
              "  </thead>\n",
              "  <tbody>\n",
              "    <tr>\n",
              "      <th>0</th>\n",
              "      <td>1</td>\n",
              "      <td>F</td>\n",
              "      <td>1</td>\n",
              "      <td>10</td>\n",
              "      <td>48067</td>\n",
              "    </tr>\n",
              "    <tr>\n",
              "      <th>1</th>\n",
              "      <td>2</td>\n",
              "      <td>M</td>\n",
              "      <td>56</td>\n",
              "      <td>16</td>\n",
              "      <td>70072</td>\n",
              "    </tr>\n",
              "    <tr>\n",
              "      <th>2</th>\n",
              "      <td>3</td>\n",
              "      <td>M</td>\n",
              "      <td>25</td>\n",
              "      <td>15</td>\n",
              "      <td>55117</td>\n",
              "    </tr>\n",
              "  </tbody>\n",
              "</table>\n",
              "</div>"
            ],
            "text/plain": [
              "   user_id gender  age  occupation zip_code\n",
              "0        1      F    1          10    48067\n",
              "1        2      M   56          16    70072\n",
              "2        3      M   25          15    55117"
            ]
          },
          "metadata": {},
          "output_type": "display_data"
        },
        {
          "name": "stdout",
          "output_type": "stream",
          "text": [
            "\n",
            "items\n"
          ]
        },
        {
          "data": {
            "text/html": [
              "<div>\n",
              "<style scoped>\n",
              "    .dataframe tbody tr th:only-of-type {\n",
              "        vertical-align: middle;\n",
              "    }\n",
              "\n",
              "    .dataframe tbody tr th {\n",
              "        vertical-align: top;\n",
              "    }\n",
              "\n",
              "    .dataframe thead th {\n",
              "        text-align: right;\n",
              "    }\n",
              "</style>\n",
              "<table border=\"1\" class=\"dataframe\">\n",
              "  <thead>\n",
              "    <tr style=\"text-align: right;\">\n",
              "      <th></th>\n",
              "      <th>item_id</th>\n",
              "      <th>title</th>\n",
              "      <th>genres</th>\n",
              "    </tr>\n",
              "  </thead>\n",
              "  <tbody>\n",
              "    <tr>\n",
              "      <th>0</th>\n",
              "      <td>1</td>\n",
              "      <td>Toy Story (1995)</td>\n",
              "      <td>Animation|Children's|Comedy</td>\n",
              "    </tr>\n",
              "    <tr>\n",
              "      <th>1</th>\n",
              "      <td>2</td>\n",
              "      <td>Jumanji (1995)</td>\n",
              "      <td>Adventure|Children's|Fantasy</td>\n",
              "    </tr>\n",
              "    <tr>\n",
              "      <th>2</th>\n",
              "      <td>3</td>\n",
              "      <td>Grumpier Old Men (1995)</td>\n",
              "      <td>Comedy|Romance</td>\n",
              "    </tr>\n",
              "  </tbody>\n",
              "</table>\n",
              "</div>"
            ],
            "text/plain": [
              "   item_id                    title                        genres\n",
              "0        1         Toy Story (1995)   Animation|Children's|Comedy\n",
              "1        2           Jumanji (1995)  Adventure|Children's|Fantasy\n",
              "2        3  Grumpier Old Men (1995)                Comedy|Romance"
            ]
          },
          "metadata": {},
          "output_type": "display_data"
        },
        {
          "name": "stdout",
          "output_type": "stream",
          "text": [
            "\n"
          ]
        }
      ],
      "source": [
        "data = MovieLens(\"1m\")\n",
        "data.info()"
      ]
    },
    {
      "cell_type": "code",
      "execution_count": 5,
      "metadata": {
        "id": "SzLEj2iLpsHg"
      },
      "outputs": [],
      "source": [
        "def get_log_info(log, user_id=\"user_id\", item_id=\"item_id\"):\n",
        "    print(\n",
        "        \"Длина лога = {},\\nколичество пользователей = {},\\nколичество объектов = {}\".format(\n",
        "            log.shape[0], log[user_id].nunique(), log[item_id].nunique()\n",
        "        )\n",
        "    )"
      ]
    },
    {
      "cell_type": "code",
      "execution_count": 6,
      "metadata": {
        "colab": {
          "base_uri": "https://localhost:8080/",
          "height": 81
        },
        "id": "Q0e1K7MMIqTN",
        "outputId": "09bed6c1-51f3-48fd-f2bc-f753f3aa8523"
      },
      "outputs": [
        {
          "data": {
            "text/html": [
              "<div>\n",
              "<style scoped>\n",
              "    .dataframe tbody tr th:only-of-type {\n",
              "        vertical-align: middle;\n",
              "    }\n",
              "\n",
              "    .dataframe tbody tr th {\n",
              "        vertical-align: top;\n",
              "    }\n",
              "\n",
              "    .dataframe thead th {\n",
              "        text-align: right;\n",
              "    }\n",
              "</style>\n",
              "<table border=\"1\" class=\"dataframe\">\n",
              "  <thead>\n",
              "    <tr style=\"text-align: right;\">\n",
              "      <th></th>\n",
              "      <th>user_id</th>\n",
              "      <th>item_id</th>\n",
              "      <th>relevance</th>\n",
              "      <th>timestamp</th>\n",
              "    </tr>\n",
              "  </thead>\n",
              "  <tbody>\n",
              "    <tr>\n",
              "      <th>0</th>\n",
              "      <td>1</td>\n",
              "      <td>1193</td>\n",
              "      <td>5</td>\n",
              "      <td>2000-12-31 22:12:40</td>\n",
              "    </tr>\n",
              "  </tbody>\n",
              "</table>\n",
              "</div>"
            ],
            "text/plain": [
              "   user_id  item_id  relevance           timestamp\n",
              "0        1     1193          5 2000-12-31 22:12:40"
            ]
          },
          "execution_count": 6,
          "metadata": {},
          "output_type": "execute_result"
        }
      ],
      "source": [
        "reviews = data.ratings\n",
        "reviews.rename(columns={\"rating\": \"relevance\"}, inplace=True)\n",
        "reviews[\"timestamp\"] = pd.to_datetime(reviews[\"timestamp\"], unit=\"s\")\n",
        "reviews.head(1)"
      ]
    },
    {
      "cell_type": "code",
      "execution_count": 7,
      "metadata": {},
      "outputs": [
        {
          "data": {
            "text/plain": [
              "user_id      0\n",
              "item_id      0\n",
              "relevance    0\n",
              "timestamp    0\n",
              "dtype: int64"
            ]
          },
          "execution_count": 7,
          "metadata": {},
          "output_type": "execute_result"
        }
      ],
      "source": [
        "reviews.isna().sum()"
      ]
    },
    {
      "cell_type": "code",
      "execution_count": 8,
      "metadata": {},
      "outputs": [
        {
          "data": {
            "text/plain": [
              "user_id       0\n",
              "gender        0\n",
              "age           0\n",
              "occupation    0\n",
              "zip_code      0\n",
              "dtype: int64"
            ]
          },
          "execution_count": 8,
          "metadata": {},
          "output_type": "execute_result"
        }
      ],
      "source": [
        "data.users.isna().sum()"
      ]
    },
    {
      "cell_type": "code",
      "execution_count": 9,
      "metadata": {},
      "outputs": [
        {
          "data": {
            "text/plain": [
              "item_id    0\n",
              "title      0\n",
              "genres     0\n",
              "dtype: int64"
            ]
          },
          "execution_count": 9,
          "metadata": {},
          "output_type": "execute_result"
        }
      ],
      "source": [
        "data.items.isna().sum()"
      ]
    },
    {
      "attachments": {},
      "cell_type": "markdown",
      "metadata": {},
      "source": [
        "Активность пользователей в оставленни оценок:"
      ]
    },
    {
      "cell_type": "code",
      "execution_count": 10,
      "metadata": {},
      "outputs": [
        {
          "data": {
            "text/html": [
              "<div>\n",
              "<style scoped>\n",
              "    .dataframe tbody tr th:only-of-type {\n",
              "        vertical-align: middle;\n",
              "    }\n",
              "\n",
              "    .dataframe tbody tr th {\n",
              "        vertical-align: top;\n",
              "    }\n",
              "\n",
              "    .dataframe thead th {\n",
              "        text-align: right;\n",
              "    }\n",
              "</style>\n",
              "<table border=\"1\" class=\"dataframe\">\n",
              "  <thead>\n",
              "    <tr style=\"text-align: right;\">\n",
              "      <th></th>\n",
              "      <th>relevance</th>\n",
              "    </tr>\n",
              "    <tr>\n",
              "      <th>user_id</th>\n",
              "      <th></th>\n",
              "    </tr>\n",
              "  </thead>\n",
              "  <tbody>\n",
              "    <tr>\n",
              "      <th>1</th>\n",
              "      <td>53</td>\n",
              "    </tr>\n",
              "    <tr>\n",
              "      <th>2</th>\n",
              "      <td>129</td>\n",
              "    </tr>\n",
              "    <tr>\n",
              "      <th>3</th>\n",
              "      <td>51</td>\n",
              "    </tr>\n",
              "    <tr>\n",
              "      <th>4</th>\n",
              "      <td>21</td>\n",
              "    </tr>\n",
              "    <tr>\n",
              "      <th>5</th>\n",
              "      <td>198</td>\n",
              "    </tr>\n",
              "    <tr>\n",
              "      <th>...</th>\n",
              "      <td>...</td>\n",
              "    </tr>\n",
              "    <tr>\n",
              "      <th>6036</th>\n",
              "      <td>888</td>\n",
              "    </tr>\n",
              "    <tr>\n",
              "      <th>6037</th>\n",
              "      <td>202</td>\n",
              "    </tr>\n",
              "    <tr>\n",
              "      <th>6038</th>\n",
              "      <td>20</td>\n",
              "    </tr>\n",
              "    <tr>\n",
              "      <th>6039</th>\n",
              "      <td>123</td>\n",
              "    </tr>\n",
              "    <tr>\n",
              "      <th>6040</th>\n",
              "      <td>341</td>\n",
              "    </tr>\n",
              "  </tbody>\n",
              "</table>\n",
              "<p>6040 rows × 1 columns</p>\n",
              "</div>"
            ],
            "text/plain": [
              "         relevance\n",
              "user_id           \n",
              "1               53\n",
              "2              129\n",
              "3               51\n",
              "4               21\n",
              "5              198\n",
              "...            ...\n",
              "6036           888\n",
              "6037           202\n",
              "6038            20\n",
              "6039           123\n",
              "6040           341\n",
              "\n",
              "[6040 rows x 1 columns]"
            ]
          },
          "execution_count": 10,
          "metadata": {},
          "output_type": "execute_result"
        }
      ],
      "source": [
        "user2reviewcnt = reviews[[\"user_id\", \"relevance\"]].groupby(\"user_id\").count()\n",
        "user2reviewcnt"
      ]
    },
    {
      "cell_type": "code",
      "execution_count": 11,
      "metadata": {},
      "outputs": [
        {
          "data": {
            "text/plain": [
              "6040"
            ]
          },
          "execution_count": 11,
          "metadata": {},
          "output_type": "execute_result"
        }
      ],
      "source": [
        "data.users[\"user_id\"].nunique()"
      ]
    },
    {
      "attachments": {},
      "cell_type": "markdown",
      "metadata": {},
      "source": [
        "Видим, что каждый пользователь оставлял хотя бы одну оценку. Тогда посмотрим на рапсределение пользователей по количеству оценок:"
      ]
    },
    {
      "cell_type": "code",
      "execution_count": 12,
      "metadata": {},
      "outputs": [
        {
          "data": {
            "image/png": "[encoded data removed]",
            "text/plain": [
              "<Figure size 1200x600 with 1 Axes>"
            ]
          },
          "metadata": {},
          "output_type": "display_data"
        }
      ],
      "source": [
        "plt.figure(figsize=(12, 6))\n",
        "sns.histplot(data=user2reviewcnt[\"relevance\"], stat=\"percent\")\n",
        "plt.xlabel(\"review count\")\n",
        "plt.xlim((0, 1000))  # setting borders for better visualization\n",
        "plt.title(\"Distribution of number of reviews given by each user.\")\n",
        "plt.show()"
      ]
    },
    {
      "cell_type": "code",
      "execution_count": 13,
      "metadata": {},
      "outputs": [
        {
          "name": "stdout",
          "output_type": "stream",
          "text": [
            "count    6040\n",
            "mean      165\n",
            "std       192\n",
            "min        20\n",
            "25%        44\n",
            "50%        96\n",
            "75%       208\n",
            "max      2314\n",
            "Name: relevance, dtype: int64\n"
          ]
        }
      ],
      "source": [
        "print(user2reviewcnt.describe()[\"relevance\"].apply(int))"
      ]
    },
    {
      "attachments": {},
      "cell_type": "markdown",
      "metadata": {},
      "source": [
        "**Observation:** Видим, что чаще люди оставляют примерно по 20 оценок, а среднее количество оценок от каждого пользователя примерно 165, что намного меньше максимального количества. Но таких супер-активных пользователей довольно мало."
      ]
    },
    {
      "cell_type": "code",
      "execution_count": 14,
      "metadata": {},
      "outputs": [
        {
          "data": {
            "text/html": [
              "<div>\n",
              "<style scoped>\n",
              "    .dataframe tbody tr th:only-of-type {\n",
              "        vertical-align: middle;\n",
              "    }\n",
              "\n",
              "    .dataframe tbody tr th {\n",
              "        vertical-align: top;\n",
              "    }\n",
              "\n",
              "    .dataframe thead th {\n",
              "        text-align: right;\n",
              "    }\n",
              "</style>\n",
              "<table border=\"1\" class=\"dataframe\">\n",
              "  <thead>\n",
              "    <tr style=\"text-align: right;\">\n",
              "      <th></th>\n",
              "      <th>relevance</th>\n",
              "    </tr>\n",
              "    <tr>\n",
              "      <th>item_id</th>\n",
              "      <th></th>\n",
              "    </tr>\n",
              "  </thead>\n",
              "  <tbody>\n",
              "    <tr>\n",
              "      <th>1</th>\n",
              "      <td>2077</td>\n",
              "    </tr>\n",
              "    <tr>\n",
              "      <th>2</th>\n",
              "      <td>701</td>\n",
              "    </tr>\n",
              "    <tr>\n",
              "      <th>3</th>\n",
              "      <td>478</td>\n",
              "    </tr>\n",
              "    <tr>\n",
              "      <th>4</th>\n",
              "      <td>170</td>\n",
              "    </tr>\n",
              "    <tr>\n",
              "      <th>5</th>\n",
              "      <td>296</td>\n",
              "    </tr>\n",
              "    <tr>\n",
              "      <th>...</th>\n",
              "      <td>...</td>\n",
              "    </tr>\n",
              "    <tr>\n",
              "      <th>3948</th>\n",
              "      <td>862</td>\n",
              "    </tr>\n",
              "    <tr>\n",
              "      <th>3949</th>\n",
              "      <td>304</td>\n",
              "    </tr>\n",
              "    <tr>\n",
              "      <th>3950</th>\n",
              "      <td>54</td>\n",
              "    </tr>\n",
              "    <tr>\n",
              "      <th>3951</th>\n",
              "      <td>40</td>\n",
              "    </tr>\n",
              "    <tr>\n",
              "      <th>3952</th>\n",
              "      <td>388</td>\n",
              "    </tr>\n",
              "  </tbody>\n",
              "</table>\n",
              "<p>3706 rows × 1 columns</p>\n",
              "</div>"
            ],
            "text/plain": [
              "         relevance\n",
              "item_id           \n",
              "1             2077\n",
              "2              701\n",
              "3              478\n",
              "4              170\n",
              "5              296\n",
              "...            ...\n",
              "3948           862\n",
              "3949           304\n",
              "3950            54\n",
              "3951            40\n",
              "3952           388\n",
              "\n",
              "[3706 rows x 1 columns]"
            ]
          },
          "execution_count": 14,
          "metadata": {},
          "output_type": "execute_result"
        }
      ],
      "source": [
        "item2reviewcnt = reviews[[\"item_id\", \"relevance\"]].groupby(\"item_id\").count()\n",
        "item2reviewcnt"
      ]
    },
    {
      "cell_type": "code",
      "execution_count": 15,
      "metadata": {},
      "outputs": [
        {
          "data": {
            "text/plain": [
              "3883"
            ]
          },
          "execution_count": 15,
          "metadata": {},
          "output_type": "execute_result"
        }
      ],
      "source": [
        "data.items[\"item_id\"].nunique()"
      ]
    },
    {
      "attachments": {},
      "cell_type": "markdown",
      "metadata": {},
      "source": [
        "Видим, что у 3883 - 3706 = 177 фильмов нету оценок, и скорее всего их мы никому не сможем порекомендовать. Проставим в них количество оценок 0, чтобы правильно посчитать статистики:"
      ]
    },
    {
      "cell_type": "code",
      "execution_count": 16,
      "metadata": {},
      "outputs": [
        {
          "data": {
            "text/html": [
              "<div>\n",
              "<style scoped>\n",
              "    .dataframe tbody tr th:only-of-type {\n",
              "        vertical-align: middle;\n",
              "    }\n",
              "\n",
              "    .dataframe tbody tr th {\n",
              "        vertical-align: top;\n",
              "    }\n",
              "\n",
              "    .dataframe thead th {\n",
              "        text-align: right;\n",
              "    }\n",
              "</style>\n",
              "<table border=\"1\" class=\"dataframe\">\n",
              "  <thead>\n",
              "    <tr style=\"text-align: right;\">\n",
              "      <th></th>\n",
              "      <th>relevance</th>\n",
              "    </tr>\n",
              "    <tr>\n",
              "      <th>item_id</th>\n",
              "      <th></th>\n",
              "    </tr>\n",
              "  </thead>\n",
              "  <tbody>\n",
              "    <tr>\n",
              "      <th>1</th>\n",
              "      <td>2077</td>\n",
              "    </tr>\n",
              "    <tr>\n",
              "      <th>2</th>\n",
              "      <td>701</td>\n",
              "    </tr>\n",
              "    <tr>\n",
              "      <th>3</th>\n",
              "      <td>478</td>\n",
              "    </tr>\n",
              "    <tr>\n",
              "      <th>4</th>\n",
              "      <td>170</td>\n",
              "    </tr>\n",
              "    <tr>\n",
              "      <th>5</th>\n",
              "      <td>296</td>\n",
              "    </tr>\n",
              "    <tr>\n",
              "      <th>...</th>\n",
              "      <td>...</td>\n",
              "    </tr>\n",
              "    <tr>\n",
              "      <th>979</th>\n",
              "      <td>0</td>\n",
              "    </tr>\n",
              "    <tr>\n",
              "      <th>983</th>\n",
              "      <td>0</td>\n",
              "    </tr>\n",
              "    <tr>\n",
              "      <th>1001</th>\n",
              "      <td>0</td>\n",
              "    </tr>\n",
              "    <tr>\n",
              "      <th>2030</th>\n",
              "      <td>0</td>\n",
              "    </tr>\n",
              "    <tr>\n",
              "      <th>3059</th>\n",
              "      <td>0</td>\n",
              "    </tr>\n",
              "  </tbody>\n",
              "</table>\n",
              "<p>3883 rows × 1 columns</p>\n",
              "</div>"
            ],
            "text/plain": [
              "         relevance\n",
              "item_id           \n",
              "1             2077\n",
              "2              701\n",
              "3              478\n",
              "4              170\n",
              "5              296\n",
              "...            ...\n",
              "979              0\n",
              "983              0\n",
              "1001             0\n",
              "2030             0\n",
              "3059             0\n",
              "\n",
              "[3883 rows x 1 columns]"
            ]
          },
          "execution_count": 16,
          "metadata": {},
          "output_type": "execute_result"
        }
      ],
      "source": [
        "unreviewed_films = list(\n",
        "    set(data.items[\"item_id\"].unique()).difference(item2reviewcnt.index.values)\n",
        ")\n",
        "unreviewed_df = pd.DataFrame(\n",
        "    data={\"item_id\": unreviewed_films, \"relevance\": [0] * len(unreviewed_films)}\n",
        ").set_index(\"item_id\")\n",
        "item2reviewcnt = pd.concat((item2reviewcnt, unreviewed_df))\n",
        "item2reviewcnt"
      ]
    },
    {
      "cell_type": "code",
      "execution_count": 17,
      "metadata": {},
      "outputs": [
        {
          "name": "stdout",
          "output_type": "stream",
          "text": [
            "count    3883\n",
            "mean      257\n",
            "std       379\n",
            "min         0\n",
            "25%        26\n",
            "50%       109\n",
            "75%       330\n",
            "max      3428\n",
            "Name: relevance, dtype: int64\n"
          ]
        }
      ],
      "source": [
        "print(item2reviewcnt.describe()[\"relevance\"].apply(int))"
      ]
    },
    {
      "cell_type": "code",
      "execution_count": 18,
      "metadata": {},
      "outputs": [
        {
          "data": {
            "image/png": "[encoded data removed]",
            "text/plain": [
              "<Figure size 1200x600 with 1 Axes>"
            ]
          },
          "metadata": {},
          "output_type": "display_data"
        }
      ],
      "source": [
        "plt.figure(figsize=(12, 6))\n",
        "sns.histplot(data=item2reviewcnt[\"relevance\"], stat=\"percent\")\n",
        "plt.xlabel(\"review count\")\n",
        "plt.xlim((0, 1000))  # setting borders for better visualization\n",
        "plt.title(\"Distribution of number of reviews given to each item.\")\n",
        "plt.show()"
      ]
    },
    {
      "attachments": {},
      "cell_type": "markdown",
      "metadata": {},
      "source": [
        "**Наблюдение:** В этом случае наблюдаем примерно такое же распределение как с пользователями, т.е. чаще всего у фильмов меньше 50 оценок."
      ]
    },
    {
      "attachments": {},
      "cell_type": "markdown",
      "metadata": {},
      "source": [
        "Посмотрим на распределение оценок:"
      ]
    },
    {
      "cell_type": "code",
      "execution_count": 19,
      "metadata": {},
      "outputs": [
        {
          "data": {
            "image/png": "[encoded data removed]",
            "text/plain": [
              "<Figure size 1200x500 with 1 Axes>"
            ]
          },
          "metadata": {},
          "output_type": "display_data"
        }
      ],
      "source": [
        "relevance_np = reviews[\"relevance\"].to_numpy()\n",
        "uniq, cnt = np.unique(relevance_np, return_counts=True)\n",
        "fraq = 100 * cnt.astype(np.float32) / len(relevance_np)\n",
        "plt.figure(figsize=(12, 5))\n",
        "sns.barplot(x=fraq, y=uniq, orient=\"h\")\n",
        "plt.xlabel(\"%\")\n",
        "plt.ylabel(\"review\")\n",
        "plt.title(\"Distribution of reviews.\")\n",
        "plt.show()"
      ]
    },
    {
      "attachments": {},
      "cell_type": "markdown",
      "metadata": {},
      "source": [
        "**Observation:** можем увидеть, что в примерно в 83% случаях, люди ставят оценки >= 3"
      ]
    },
    {
      "cell_type": "code",
      "execution_count": 20,
      "metadata": {},
      "outputs": [],
      "source": [
        "date2item = reviews[[\"timestamp\", \"relevance\"]].copy()\n",
        "date2item[\"month\"] = date2item[\"timestamp\"].dt.to_period(\"M\")\n",
        "month_cnt = date2item[[\"month\", \"relevance\"]].groupby(\"month\").count()"
      ]
    },
    {
      "cell_type": "code",
      "execution_count": 21,
      "metadata": {},
      "outputs": [
        {
          "data": {
            "image/png": "[encoded data removed]",
            "text/plain": [
              "<Figure size 1200x500 with 1 Axes>"
            ]
          },
          "metadata": {},
          "output_type": "display_data"
        }
      ],
      "source": [
        "yval = month_cnt[\"relevance\"].to_numpy()\n",
        "xval = month_cnt.index.strftime(\"%Y-%m\").values\n",
        "plt.figure(figsize=(12, 5))\n",
        "sns.barplot(x=xval, y=yval)\n",
        "plt.xticks(rotation=80)\n",
        "plt.xlabel(\"months\")\n",
        "plt.ylabel(\"#reviews\")\n",
        "plt.title(\"Number of reviews by months.\")\n",
        "plt.show()"
      ]
    },
    {
      "attachments": {},
      "cell_type": "markdown",
      "metadata": {},
      "source": [
        "**Observation:** можно увидеть, что самая высокая активность в ноябре 2000 года, и в целом в 2000 году люди больше ставили оценок чем в остальные года. Начиная с 2001 можно наблюдать резкий спад в активности пользователей."
      ]
    },
    {
      "cell_type": "code",
      "execution_count": 22,
      "metadata": {
        "id": "WpkuAMwbAVOi"
      },
      "outputs": [],
      "source": [
        "def split_by_date(\n",
        "    to_split: pd.DataFrame,\n",
        "    lower_date: pd.Timestamp = pd.to_datetime(\"2000-12-01\"),\n",
        "    upper_date: pd.Timestamp = pd.to_datetime(\"2000-12-31\"),\n",
        ") -> tp.Tuple[pd.DataFrame]:\n",
        "    train_df = to_split[to_split[\"timestamp\"] < lower_date].copy()\n",
        "    val_df = to_split[\n",
        "        (to_split[\"timestamp\"] >= lower_date)\n",
        "        & (to_split[\"timestamp\"] <= upper_date)\n",
        "        & (to_split[\"relevance\"] > 3)\n",
        "    ].copy()\n",
        "\n",
        "    warm_users = train_df[\"user_id\"].unique()\n",
        "    cold_users = set(to_split[\"user_id\"].unique()).difference(warm_users)\n",
        "\n",
        "    rows_to_drop = []\n",
        "    for i, row in val_df.iterrows():\n",
        "        if row[\"user_id\"] in cold_users:\n",
        "            rows_to_drop.append(i)\n",
        "\n",
        "    val_df.drop(rows_to_drop, axis=0, inplace=True)\n",
        "    return train_df, val_df"
      ]
    },
    {
      "cell_type": "code",
      "execution_count": 23,
      "metadata": {},
      "outputs": [],
      "source": [
        "train_df, val_df = split_by_date(reviews)"
      ]
    },
    {
      "cell_type": "code",
      "execution_count": 24,
      "metadata": {
        "id": "7qNWgSOyv-Eh"
      },
      "outputs": [],
      "source": [
        "assert train_df.shape[0] == 791270\n",
        "assert val_df.shape[0] == 14790"
      ]
    },
    {
      "cell_type": "code",
      "execution_count": 25,
      "metadata": {
        "colab": {
          "base_uri": "https://localhost:8080/"
        },
        "id": "ZAi0W00r3XnS",
        "outputId": "46ef6d0c-241d-4651-a6e7-fdc29aa5324b"
      },
      "outputs": [
        {
          "name": "stdout",
          "output_type": "stream",
          "text": [
            "Длина лога = 791270,\n",
            "количество пользователей = 5365,\n",
            "количество объектов = 3662\n"
          ]
        }
      ],
      "source": [
        "get_log_info(train_df)"
      ]
    },
    {
      "cell_type": "code",
      "execution_count": 26,
      "metadata": {
        "colab": {
          "base_uri": "https://localhost:8080/"
        },
        "id": "gkU70z8j7Dfn",
        "outputId": "b6f1d7bb-5074-424b-8bdc-d354ed4dd04c"
      },
      "outputs": [
        {
          "name": "stdout",
          "output_type": "stream",
          "text": [
            "Длина лога = 14790,\n",
            "количество пользователей = 522,\n",
            "количество объектов = 2341\n"
          ]
        }
      ],
      "source": [
        "get_log_info(val_df)"
      ]
    },
    {
      "cell_type": "markdown",
      "metadata": {},
      "source": [
        "# METRICS"
      ]
    },
    {
      "attachments": {},
      "cell_type": "markdown",
      "metadata": {
        "id": "-Y_g2qIohNz2"
      },
      "source": [
        "\n",
        "### NDCG\n",
        "\n",
        "1) Посчитаем DCG\n",
        "\n",
        "$$DCG@K(i) = \\sum_{j=1}^{K}\\frac{\\mathbb{1}_{r_{ij}}}{\\log_2 (j+1)}$$\n",
        "\n",
        "2) Чтобы получить Normalized метрику, вычислим максимально возможное для данного пользователя значение $DCG@K$, $IDCG@K$.\n",
        "\n",
        "$$IDCG@K(i) = max(DCG@K(i)) = \\sum_{j=1}^{K}\\frac{\\mathbb{1}_{j\\le|Rel_i|}}{\\log_2 (j+1)}$$\n",
        "\n",
        "$$nDCG@K(i) = \\frac{DCG@K(i)}{IDCG@K(i)}$$\n",
        "\n",
        "3) Результат усредним по пользователям.\n",
        "\n",
        "$$ nDCG@K = \\frac{\\sum_{i=1}^{N}nDCG@K(i)}{N}$$\n",
        "    \n"
      ]
    },
    {
      "cell_type": "markdown",
      "metadata": {
        "id": "YCVdKfKqGa3a"
      },
      "source": [
        "#### NDCG для одного пользователя"
      ]
    },
    {
      "cell_type": "code",
      "execution_count": 30,
      "metadata": {
        "id": "OXerY4KSAtHZ"
      },
      "outputs": [],
      "source": [
        "import math\n",
        "from collections import defaultdict"
      ]
    },
    {
      "cell_type": "code",
      "execution_count": 31,
      "metadata": {
        "id": "-MmNSLKPGGNf"
      },
      "outputs": [],
      "source": [
        "def ndcg_user(row, k):\n",
        "    \"\"\"\n",
        "    row: row of pd.Dataframe with columns `pred_list`, `gt_list`\n",
        "    \"\"\"\n",
        "    pred_list = row[\"pred_list\"]\n",
        "    gt_list = set(row[\"gt_list\"])\n",
        "    dcg = 0.0\n",
        "    idcg = 0.0\n",
        "    for i in range(1, k + 1):\n",
        "        if i <= len(pred_list) and pred_list[i - 1] in gt_list:\n",
        "            dcg += np.log(2) / np.log(i + 1)\n",
        "        if i <= len(gt_list):\n",
        "            idcg += np.log(2) / np.log(i + 1)\n",
        "    ndcg = 0.0\n",
        "    if idcg != 0:\n",
        "        ndcg = dcg / idcg\n",
        "    return ndcg"
      ]
    },
    {
      "cell_type": "code",
      "execution_count": 32,
      "metadata": {
        "id": "lFU-S9Tlq9xI"
      },
      "outputs": [],
      "source": [
        "assert math.isclose(\n",
        "    ndcg_user(\n",
        "        pd.Series({\"user_id\": 1, \"pred_list\": [1, 2, 3], \"gt_list\": [4, 5, 2, 6]}), k=3\n",
        "    ),\n",
        "    0.296,\n",
        "    abs_tol=1e-3,\n",
        ")\n",
        "assert math.isclose(\n",
        "    ndcg_user(\n",
        "        pd.Series({\"user_id\": 1, \"pred_list\": [1, 2, 3], \"gt_list\": [4, 5, 2, 6]}), k=5\n",
        "    ),\n",
        "    0.246,\n",
        "    abs_tol=1e-3,\n",
        ")\n",
        "assert math.isclose(\n",
        "    ndcg_user(\n",
        "        pd.Series({\"user_id\": 1, \"pred_list\": [1, 2, 3], \"gt_list\": [4, 5, 2, 6]}), k=1\n",
        "    ),\n",
        "    0.0,\n",
        "    abs_tol=1e-3,\n",
        ")\n",
        "assert math.isclose(\n",
        "    ndcg_user(\n",
        "        pd.Series({\"user_id\": 1, \"pred_list\": [], \"gt_list\": [4, 5, 2, 6]}), k=10\n",
        "    ),\n",
        "    0,\n",
        ")\n",
        "assert math.isclose(\n",
        "    ndcg_user(pd.Series({\"user_id\": 1, \"pred_list\": [1, 3], \"gt_list\": []}), k=10), 0\n",
        ")"
      ]
    },
    {
      "cell_type": "code",
      "execution_count": 33,
      "metadata": {},
      "outputs": [],
      "source": [
        "from abc import ABC, abstractmethod\n",
        "\n",
        "\n",
        "class Metric(ABC):\n",
        "    @abstractmethod\n",
        "    def __call__(self, pred_df: pd.DataFrame, k: int) -> float:\n",
        "        pass"
      ]
    },
    {
      "cell_type": "code",
      "execution_count": 34,
      "metadata": {
        "id": "SeT0Fwi1BZEt"
      },
      "outputs": [],
      "source": [
        "class NDCG(Metric):\n",
        "    def __init__(self, gold_df: pd.DataFrame):\n",
        "        self.gold_df = gold_df\n",
        "\n",
        "    def __call__(self, pred_df: pd.DataFrame, k: int) -> float:\n",
        "        all_users = self.gold_df[\"user_id\"].unique()\n",
        "        metric = 0.0\n",
        "        for user in all_users:\n",
        "            user_df = pred_df[pred_df[\"user_id\"] == user].sort_values(\n",
        "                by=\"relevance\", ascending=False\n",
        "            )\n",
        "            pred_list = user_df[\"item_id\"].to_list()\n",
        "            gt_list = self.gold_df[self.gold_df[\"user_id\"] == user][\"item_id\"].to_list()\n",
        "            metric += ndcg_user(\n",
        "                pd.Series(\n",
        "                    {\"user_id\": user, \"pred_list\": pred_list, \"gt_list\": gt_list}\n",
        "                ),\n",
        "                k=k,\n",
        "            )\n",
        "        return metric / len(all_users)"
      ]
    },
    {
      "cell_type": "code",
      "execution_count": 35,
      "metadata": {},
      "outputs": [
        {
          "data": {
            "text/plain": [
              "0.008261439059285468"
            ]
          },
          "execution_count": 35,
          "metadata": {},
          "output_type": "execute_result"
        }
      ],
      "source": [
        "ndcg = NDCG(gold_df=val_df)\n",
        "ndcg(random_pred, k=20)"
      ]
    },
    {
      "attachments": {},
      "cell_type": "markdown",
      "metadata": {
        "id": "Cli_6-O6tYD1"
      },
      "source": [
        "### Surprisal\n",
        "\n",
        "1. Будем рассматривать собственную информацию item-а как меру его новизны для пользователей.\n",
        "\n",
        "    $$selfInformation(i) = -\\log_2 \\frac{|u_i|}{N}, $$ \n",
        "    где $i$ - объект (item), $N$ - число пользователей в обучающей выборке, $|u_i|$ - число пользователей, взаимодействовавших с объектом $i$ в обучающей выборке.\n",
        "\n",
        "\n",
        "2. Собственная информация определяется для item-а, а значение метрики мы хотим считать для пользователя и $k$ - количества рекомендаций. Для подсчета Surprisal пользователя усредним значения собственной информации в топ-k рекомендациях этого пользователя.\n",
        "\n",
        "    Чтобы получить значения от 0 до 1, разделим значение метрики для пользователя на максимально возможно значение метрики равное $log_2 N$.\n",
        "\n",
        "$$Surprisal(u, k) = \\frac{1}{k log_2 N} \\sum_{i}^{k}selfInformation(i)$$\n",
        "\n",
        "\n",
        "3. Результат усредним по пользователям."
      ]
    },
    {
      "cell_type": "code",
      "execution_count": 36,
      "metadata": {
        "id": "ARiKCIhdtWvR"
      },
      "outputs": [],
      "source": [
        "class Surprisal(Metric):\n",
        "    def __init__(self, log: pd.DataFrame):\n",
        "        self.info = {}\n",
        "        self.N = log[\"user_id\"].nunique()\n",
        "        item_groups = log.groupby(\"item_id\")[\"user_id\"]\n",
        "        for item, group in item_groups:\n",
        "            n_users = group.nunique()\n",
        "            self.info[item] = (np.log(self.N) - np.log(n_users)) / np.log(2)\n",
        "\n",
        "    def __call__(self, pred_df: pd.DataFrame, k: int) -> float:\n",
        "        all_users = pred_df[\"user_id\"].unique()\n",
        "        metric = 0.0\n",
        "        for user in all_users:\n",
        "            user_df = pred_df[pred_df[\"user_id\"] == user].sort_values(\n",
        "                by=\"relevance\", ascending=False\n",
        "            )\n",
        "            pred_list = user_df[\"item_id\"].to_list()\n",
        "            metric += self._metric_by_user(\n",
        "                pred_list,\n",
        "                k=k,\n",
        "            )\n",
        "        return metric / len(all_users)\n",
        "\n",
        "    def _metric_by_user(self, pred_list: tp.Iterable, k: int) -> float:\n",
        "        info_sum = 0.0\n",
        "        upper_bound = min(k, len(pred_list))\n",
        "        for i in range(upper_bound):\n",
        "            item = pred_list[i]\n",
        "            if item not in self.info:\n",
        "                self.info[item] = np.log(self.N) / np.log(2)\n",
        "            info_sum += self.info[item]\n",
        "        return (info_sum * np.log(2)) / (k * np.log(self.N))"
      ]
    },
    {
      "cell_type": "code",
      "execution_count": 37,
      "metadata": {
        "id": "ohDN2k-ztz-z"
      },
      "outputs": [],
      "source": [
        "surp = Surprisal(\n",
        "    pd.DataFrame(\n",
        "        {\n",
        "            \"user_id\": [1, 2, 3, 3],\n",
        "            \"item_id\": [1, 2, 2, 3],\n",
        "            \"relevance\": [0.5, 0.1, 1.0, 0.1],\n",
        "        }\n",
        "    )\n",
        ")\n",
        "assert math.isclose(\n",
        "    surp(pd.DataFrame({\"user_id\": [1], \"item_id\": [4], \"relevance\": [0.5]}), k=1), 1\n",
        ")\n",
        "assert math.isclose(\n",
        "    surp(pd.DataFrame({\"user_id\": [1], \"item_id\": [4], \"relevance\": [0.5]}), k=2), 0.5\n",
        ")\n",
        "assert math.isclose(\n",
        "    surp(\n",
        "        pd.DataFrame({\"user_id\": [2, 2], \"item_id\": [3, 2], \"relevance\": [0.1, 1]}), k=2\n",
        "    ),\n",
        "    0.685,\n",
        "    abs_tol=1e-3,\n",
        ")\n",
        "assert math.isclose(\n",
        "    surp(\n",
        "        pd.DataFrame(\n",
        "            {\"user_id\": [1, 2, 2], \"item_id\": [4, 3, 2], \"relevance\": [0.5, 0.1, 1]}\n",
        "        ),\n",
        "        k=2,\n",
        "    ),\n",
        "    (0.684 + 0.5) / 2,\n",
        "    abs_tol=1e-3,\n",
        ")"
      ]
    },
    {
      "attachments": {},
      "cell_type": "markdown",
      "metadata": {},
      "source": [
        "Реализации остальных метрик:"
      ]
    },
    {
      "cell_type": "code",
      "execution_count": 38,
      "metadata": {},
      "outputs": [],
      "source": [
        "class HitRate(Metric):\n",
        "    def __init__(self, gold_df: pd.DataFrame):\n",
        "        self.gold_df = gold_df\n",
        "\n",
        "    def __call__(self, pred_df: pd.DataFrame, k: int) -> float:\n",
        "        all_users = pred_df[\"user_id\"].unique()\n",
        "        metric = 0.0\n",
        "        for user in all_users:\n",
        "            user_df = pred_df[pred_df[\"user_id\"] == user].sort_values(\n",
        "                by=\"relevance\", ascending=False\n",
        "            )\n",
        "            pred_list = user_df[\"item_id\"].to_list()\n",
        "            gt_list = self.gold_df[self.gold_df[\"user_id\"] == user][\"item_id\"].to_list()\n",
        "            metric += self._metric_by_user(pred_list[:k], gt_list)\n",
        "        return metric / len(all_users)\n",
        "\n",
        "    def _metric_by_user(self, pred_list: tp.Iterable, gt_list: tp.Iterable) -> float:\n",
        "        gt_set = set(gt_list)\n",
        "        for item in pred_list:\n",
        "            if item in gt_set:\n",
        "                return 1.0\n",
        "        return 0.0\n",
        "\n",
        "\n",
        "class Coverage(Metric):\n",
        "    def __init__(self, all_items: tp.Set[int]):\n",
        "        self.all_items = all_items\n",
        "\n",
        "    def __call__(self, pred_df: pd.DataFrame, k: int) -> float:\n",
        "        all_users = pred_df[\"user_id\"].unique()\n",
        "        predicted_items = set()\n",
        "        for user in all_users:\n",
        "            user_df = pred_df[pred_df[\"user_id\"] == user].sort_values(\n",
        "                by=\"relevance\", ascending=False\n",
        "            )\n",
        "            pred_list = user_df[\"item_id\"].to_list()\n",
        "            predicted_items.update(pred_list[:k])\n",
        "        return len(self.all_items.intersection(predicted_items)) / len(self.all_items)"
      ]
    },
    {
      "attachments": {},
      "cell_type": "markdown",
      "metadata": {},
      "source": [
        "Посчитаем все метрики для базового решения:"
      ]
    },
    {
      "cell_type": "code",
      "execution_count": 39,
      "metadata": {
        "id": "Wp6f5myWBObw"
      },
      "outputs": [],
      "source": [
        "def compute_metrics(\n",
        "    solution: pd.DataFrame,\n",
        "    gold_df: pd.DataFrame,\n",
        "    train_df: pd.DataFrame,\n",
        "    all_items: tp.Set[int],\n",
        "    surprisal: Surprisal = None,\n",
        "    return_pandas: bool = True,\n",
        ") -> tp.Union[pd.DataFrame, tp.Dict]:\n",
        "    metrics = defaultdict(dict)\n",
        "    if not surprisal:\n",
        "        surprisal = Surprisal(train_df)\n",
        "    classes = [NDCG(gold_df), surprisal, HitRate(gold_df), Coverage(all_items)]\n",
        "    for k in [1, 5, 10, 15, K]:\n",
        "        for metric in classes:\n",
        "            metrics[f\"k = {k}\"][f\"{metric.__class__.__name__}@K\"] = metric(solution, k)\n",
        "    if return_pandas:\n",
        "        return pd.DataFrame(metrics)\n",
        "    return dict(metrics)"
      ]
    },
    {
      "cell_type": "code",
      "execution_count": 42,
      "metadata": {},
      "outputs": [],
      "source": [
        "def lencode_ids(\n",
        "    train_df: pd.DataFrame,\n",
        "    splits: tp.List[pd.DataFrame],\n",
        "    users: pd.DataFrame = None,\n",
        "    items: pd.DataFrame = None,\n",
        ") -> tp.Tuple[pd.DataFrame]:\n",
        "    all_items = pd.concat(\n",
        "        (train_df[\"item_id\"], *(split[\"item_id\"] for split in splits))\n",
        "    )\n",
        "    user_encoder = LabelEncoder()\n",
        "    item_encoder = LabelEncoder()\n",
        "    user_encoder.fit(train_df[\"user_id\"])\n",
        "    item_encoder.fit(all_items)\n",
        "\n",
        "    train_tr = train_df.copy()\n",
        "    splits_tr = []\n",
        "    if items is not None:\n",
        "        i_features = items.copy()\n",
        "        i_features = i_features[i_features[\"item_id\"].isin(all_items)]\n",
        "        i_features.loc[:, \"item_id\"] = item_encoder.transform(i_features[\"item_id\"])\n",
        "\n",
        "    if users is not None:\n",
        "        u_features = users.copy()\n",
        "        u_features = u_features[u_features[\"user_id\"].isin(train_df[\"user_id\"])]\n",
        "        u_features.loc[:, \"user_id\"] = user_encoder.transform(u_features[\"user_id\"])\n",
        "\n",
        "    train_tr.loc[:, \"user_id\"] = user_encoder.transform(train_tr[\"user_id\"])\n",
        "    train_tr.loc[:, \"item_id\"] = item_encoder.transform(train_tr[\"item_id\"])\n",
        "\n",
        "    for split in splits:\n",
        "        splits_tr.append(split.copy())\n",
        "        splits_tr[-1].loc[:, \"user_id\"] = user_encoder.transform(\n",
        "            splits_tr[-1][\"user_id\"]\n",
        "        )\n",
        "        splits_tr[-1].loc[:, \"item_id\"] = item_encoder.transform(\n",
        "            splits_tr[-1][\"item_id\"]\n",
        "        )\n",
        "    result = [train_tr, splits_tr]\n",
        "    if users is not None:\n",
        "        result.append(u_features)\n",
        "\n",
        "    if items is not None:\n",
        "        result.append(i_features)\n",
        "    result.extend([user_encoder, item_encoder])\n",
        "    return tuple(result)\n",
        "\n",
        "\n",
        "def to_csr(data_df: pd.DataFrame) -> csr_matrix:\n",
        "    return csr_matrix(\n",
        "        (\n",
        "            data_df[\"relevance\"].to_numpy().astype(np.float32),\n",
        "            (data_df[\"user_id\"].to_numpy(), data_df[\"item_id\"].to_numpy()),\n",
        "        )\n",
        "    )"
      ]
    },
    {
      "cell_type": "code",
      "execution_count": 43,
      "metadata": {},
      "outputs": [],
      "source": [
        "train_tr, [val_tr], u_features, i_features, user_encoder, item_encoder = lencode_ids(\n",
        "    train_df, [val_df], data.users, data.items\n",
        ")\n",
        "train_csr = to_csr(train_tr)\n",
        "val_users = val_tr[\"user_id\"].unique()"
      ]
    },
    {
      "cell_type": "code",
      "execution_count": 44,
      "metadata": {},
      "outputs": [],
      "source": [
        "def get_recommendations(\n",
        "    model: RecommenderBase,\n",
        "    train_csr: csr_matrix,\n",
        "    users: tp.Union[int, ArrayLike],\n",
        "    user_items: csr_matrix = None,\n",
        "    to_fit: bool = True,\n",
        ") -> pd.DataFrame:\n",
        "    if user_items is None:\n",
        "        user_items = train_csr[users]\n",
        "    if to_fit:\n",
        "        model.fit(train_csr, show_progress=False)\n",
        "    recoms, scores = model.recommend(\n",
        "        userid=users,\n",
        "        N=K,\n",
        "        user_items=user_items,\n",
        "        filter_already_liked_items=True,\n",
        "    )\n",
        "    return pd.DataFrame(\n",
        "        {\n",
        "            \"user_id\": np.repeat(users, K),\n",
        "            \"item_id\": recoms.flatten(),\n",
        "            \"relevance\": scores.flatten(),\n",
        "        }\n",
        "    )"
      ]
    },
    {
      "cell_type": "code",
      "execution_count": 50,
      "metadata": {},
      "outputs": [
        {
          "data": {
            "text/plain": [
              "((500477, 4), (3220, 4))"
            ]
          },
          "execution_count": 50,
          "metadata": {},
          "output_type": "execute_result"
        }
      ],
      "source": [
        "lower_date = pd.to_datetime(\"2000-11-01\")\n",
        "upper_date = pd.to_datetime(\"2000-11-30\")\n",
        "train_split_df, val_split_df = split_by_date(train_df, lower_date, upper_date)\n",
        "(\n",
        "    train_split_tr,\n",
        "    [val_split_tr],\n",
        "    _,\n",
        "    _,\n",
        ") = lencode_ids(train_split_df, [val_split_df])\n",
        "train_split_csr = to_csr(train_split_tr)\n",
        "val_split_users = val_split_tr[\"user_id\"].unique()\n",
        "train_split_df.shape, val_split_df.shape"
      ]
    },
    {
      "cell_type": "code",
      "execution_count": 55,
      "metadata": {},
      "outputs": [],
      "source": [
        "# leave only positive feedback\n",
        "train_csr_filtered = train_csr.copy()\n",
        "train_csr_filtered.data[train_csr.data <= 3] = 0.0\n",
        "train_csr_filtered.eliminate_zeros()\n",
        "train_split_csr_filtered = train_split_csr.copy()\n",
        "train_split_csr_filtered.data[train_split_csr.data <= 3] = 0.0\n",
        "train_split_csr_filtered.eliminate_zeros()"
      ]
    },
    {
      "cell_type": "markdown",
      "metadata": {},
      "source": [
        "# SLIM"
      ]
    },
    {
      "attachments": {},
      "cell_type": "markdown",
      "metadata": {},
      "source": [
        "Статья про SLIM утверждает, что общая задача оптимизации сводится к решению множества подзадач, т.к. столбцы весовой матрицы независимы. Попробуем наивный подход к решению подзадачи для первого столбца весовой матрицы. Используем `scipy.optimize.minimize` и зададим нужные ограничения и функционалы:"
      ]
    },
    {
      "cell_type": "code",
      "execution_count": 238,
      "metadata": {},
      "outputs": [],
      "source": [
        "from scipy.optimize import minimize\n",
        "from scipy.sparse import identity, lil_matrix, save_npz, load_npz\n",
        "from sklearn.linear_model import ElasticNet, SGDRegressor\n",
        "from tqdm.notebook import tqdm\n",
        "from time import time, sleep\n",
        "\n",
        "import warnings\n",
        "from sklearn.exceptions import ConvergenceWarning\n",
        "warnings.filterwarnings(action=\"ignore\", category=ConvergenceWarning)"
      ]
    },
    {
      "cell_type": "code",
      "execution_count": 151,
      "metadata": {},
      "outputs": [
        {
          "name": "stdout",
          "output_type": "stream",
          "text": [
            " message: Optimization terminated successfully\n",
            " success: True\n",
            "  status: 0\n",
            "     fun: 16200.500658900526\n",
            "       x: [ 0.000e+00  0.000e+00 ...  0.000e+00  1.000e+00]\n",
            "     nit: 1\n",
            "     jac: [ 0.000e+00  0.000e+00 ...  0.000e+00 -7.290e+02]\n",
            "    nfev: 12\n",
            "    njev: 1\n",
            "17.825730085372925\n"
          ]
        }
      ],
      "source": [
        "begin = time()\n",
        "A = train_csr.toarray()\n",
        "aj_gold = A[:, 0]\n",
        "\n",
        "def func(W: csr_matrix):\n",
        "    functional = aj_gold - np.dot(A, W)\n",
        "    l2_norm = np.sum(np.square(W))\n",
        "    l1_norm = np.sum(np.abs(W))\n",
        "    residual_sum = np.sum(np.square(functional))\n",
        "    return 0.5 * (residual_sum + l2_norm + l1_norm)\n",
        "\n",
        "\n",
        "def jac_func(W: csr_matrix):\n",
        "    return W + np.sign(W) - W * A.sum(axis=0)\n",
        "\n",
        "\n",
        "def const1(W: csr_matrix):\n",
        "    return W[0]\n",
        "\n",
        "\n",
        "def const1_jac(W: csr_matrix):\n",
        "    result = np.zeros_like(W)\n",
        "    result[0] = 1.0\n",
        "    return result\n",
        "\n",
        "\n",
        "def const2(W: csr_matrix):\n",
        "    result = W.copy()\n",
        "    result[W == 0.0] = 1.0\n",
        "    return np.prod(result)\n",
        "\n",
        "\n",
        "def const2_jac(W: csr_matrix) -> csr_matrix:\n",
        "    result = W.copy()\n",
        "    result[W == 0.0] = 1.0\n",
        "    prod = np.prod(result)\n",
        "    return prod / result\n",
        "\n",
        "\n",
        "first_constraint = {\n",
        "    \"type\": \"eq\",\n",
        "    \"fun\": const1,\n",
        "    \"jac\": const1_jac,\n",
        "}\n",
        "\n",
        "\n",
        "second_condition = {\n",
        "    \"type\": \"ineq\",\n",
        "    \"fun\": const2,\n",
        "    \"jac\": const2_jac,\n",
        "}\n",
        "\n",
        "x0 = np.zeros(shape=A.shape[1])\n",
        "x0[-1] = 1.0\n",
        "constraints = (first_constraint, second_condition)\n",
        "opt_res = minimize(\n",
        "    fun=func,\n",
        "    x0=x0,\n",
        "    method=\"SLSQP\",\n",
        "    jac=jac_func,\n",
        "    constraints=constraints,\n",
        ")\n",
        "end = time()\n",
        "print(opt_res)\n",
        "print(end - begin)"
      ]
    },
    {
      "attachments": {},
      "cell_type": "markdown",
      "metadata": {},
      "source": [
        "Можем увидеть, что уходит где то 18 секунд на вычисление нужного столбца. А таких столбцов у нас около 3300, поэтому невыгодно использовать условную минимизацию, если нет 1000 параллельных потоков. Будем использовать feature-selection описанный в статье: по ближайшим соседьям столбца обучающей матрицы будем строить весовой столбец, т.е. отреализуем `fsSLIM`. Авторы утверждают, что с таким подходом время обучения модели значительно сокращается, а качество несильно падает."
      ]
    },
    {
      "cell_type": "code",
      "execution_count": 239,
      "metadata": {},
      "outputs": [],
      "source": [
        "class SLIMRecommender:\n",
        "    def __init__(self, a: float = 1.0, b: float = 2.0, K: int = 100, seed: int = SEED):\n",
        "        self.a = a\n",
        "        self.b = b\n",
        "        self.K = K\n",
        "        self.W = None\n",
        "        self.seed = seed\n",
        "        alpha = a + b\n",
        "        l1_ratio = b / (a + b)\n",
        "        self.model = ElasticNet(\n",
        "            alpha=alpha,\n",
        "            l1_ratio=l1_ratio,\n",
        "            positive=True,\n",
        "            fit_intercept=False,\n",
        "            random_state=seed,\n",
        "        )\n",
        "        self.A = None\n",
        "\n",
        "    def fit(self, A: csr_matrix, show_progress: bool = True) -> \"SLIMRecommender\":\n",
        "        similarities = A.T @ A\n",
        "        self.A = A\n",
        "        n_items = A.shape[1]\n",
        "        self.W = lil_matrix((n_items, n_items))\n",
        "        for j in tqdm(range(n_items), display=show_progress):\n",
        "            aj = A[:, j].toarray().flatten()\n",
        "            nn_idx = np.argsort(similarities[j].toarray().squeeze())[\n",
        "                -1 : -1 - self.K : -1\n",
        "            ]\n",
        "            X = A[:, nn_idx].copy().toarray()\n",
        "            (i,) = np.where(nn_idx == j)\n",
        "            if i.size != 0:\n",
        "                i = i[0]\n",
        "                X[:, i] = 0.0\n",
        "            self.model.fit(X, aj)\n",
        "            wj = np.zeros(shape=(n_items))\n",
        "            wj[nn_idx] = self.model.coef_\n",
        "            wj[j] = 0.0\n",
        "            self.W[:, j] = wj\n",
        "        self.W = self.W.tocsr()\n",
        "        return self\n",
        "\n",
        "    def save_weights(self, file: str):\n",
        "        save_npz(file, self.W)\n",
        "\n",
        "    def load_weights(self, file: str):\n",
        "        self.W = load_npz(file)\n",
        "\n",
        "    def recommend(\n",
        "        self,\n",
        "        userid: ArrayLike,\n",
        "        user_items: csr_matrix,\n",
        "        N: int = 20,\n",
        "        filter_already_liked_items: bool = True,\n",
        "    ):\n",
        "        recoms = []\n",
        "        relevance = []\n",
        "        scores = self.A[userid, :] @ self.W\n",
        "        for i in range(len(userid)):\n",
        "            scores_np = scores[i].toarray().squeeze()\n",
        "            if filter_already_liked_items:\n",
        "                liked_np = user_items[i].toarray().squeeze()\n",
        "                scores_np[liked_np > 0.0] = 0.0\n",
        "            top_k = np.argsort(scores_np)[-1 : -1 - N : -1]\n",
        "            recoms.append(top_k)\n",
        "            relevance.append(scores_np[top_k])\n",
        "        return np.array(recoms), np.array(relevance)"
      ]
    },
    {
      "cell_type": "code",
      "execution_count": 240,
      "metadata": {},
      "outputs": [],
      "source": [
        "slim_model = SLIMRecommender()\n",
        "# slim_model.fit(train_csr)\n",
        "# slim_model.A = train_csr\n",
        "# slim_model.load_weights(\"slim_W.npz\")"
      ]
    },
    {
      "cell_type": "code",
      "execution_count": 230,
      "metadata": {},
      "outputs": [
        {
          "data": {
            "text/html": [
              "<div>\n",
              "<style scoped>\n",
              "    .dataframe tbody tr th:only-of-type {\n",
              "        vertical-align: middle;\n",
              "    }\n",
              "\n",
              "    .dataframe tbody tr th {\n",
              "        vertical-align: top;\n",
              "    }\n",
              "\n",
              "    .dataframe thead th {\n",
              "        text-align: right;\n",
              "    }\n",
              "</style>\n",
              "<table border=\"1\" class=\"dataframe\">\n",
              "  <thead>\n",
              "    <tr style=\"text-align: right;\">\n",
              "      <th></th>\n",
              "      <th>k = 1</th>\n",
              "      <th>k = 5</th>\n",
              "      <th>k = 10</th>\n",
              "      <th>k = 15</th>\n",
              "      <th>k = 20</th>\n",
              "    </tr>\n",
              "  </thead>\n",
              "  <tbody>\n",
              "    <tr>\n",
              "      <th>NDCG@K</th>\n",
              "      <td>0.157088</td>\n",
              "      <td>0.138251</td>\n",
              "      <td>0.131338</td>\n",
              "      <td>0.126458</td>\n",
              "      <td>0.126910</td>\n",
              "    </tr>\n",
              "    <tr>\n",
              "      <th>Surprisal@K</th>\n",
              "      <td>0.112795</td>\n",
              "      <td>0.127487</td>\n",
              "      <td>0.137595</td>\n",
              "      <td>0.145808</td>\n",
              "      <td>0.152758</td>\n",
              "    </tr>\n",
              "    <tr>\n",
              "      <th>HitRate@K</th>\n",
              "      <td>0.157088</td>\n",
              "      <td>0.337165</td>\n",
              "      <td>0.415709</td>\n",
              "      <td>0.459770</td>\n",
              "      <td>0.503831</td>\n",
              "    </tr>\n",
              "    <tr>\n",
              "      <th>Coverage@K</th>\n",
              "      <td>0.012831</td>\n",
              "      <td>0.027300</td>\n",
              "      <td>0.042315</td>\n",
              "      <td>0.050505</td>\n",
              "      <td>0.056511</td>\n",
              "    </tr>\n",
              "  </tbody>\n",
              "</table>\n",
              "</div>"
            ],
            "text/plain": [
              "                k = 1     k = 5    k = 10    k = 15    k = 20\n",
              "NDCG@K       0.157088  0.138251  0.131338  0.126458  0.126910\n",
              "Surprisal@K  0.112795  0.127487  0.137595  0.145808  0.152758\n",
              "HitRate@K    0.157088  0.337165  0.415709  0.459770  0.503831\n",
              "Coverage@K   0.012831  0.027300  0.042315  0.050505  0.056511"
            ]
          },
          "execution_count": 230,
          "metadata": {},
          "output_type": "execute_result"
        }
      ],
      "source": [
        "recoms = get_recommendations(\n",
        "    slim_model, train_csr, val_users, train_csr[val_users], False\n",
        ")\n",
        "compute_metrics(recoms, val_tr, train_tr, all_items, surprisal)"
      ]
    },
    {
      "cell_type": "code",
      "execution_count": 241,
      "metadata": {},
      "outputs": [
        {
          "data": {
            "text/html": [
              "<div>\n",
              "<style scoped>\n",
              "    .dataframe tbody tr th:only-of-type {\n",
              "        vertical-align: middle;\n",
              "    }\n",
              "\n",
              "    .dataframe tbody tr th {\n",
              "        vertical-align: top;\n",
              "    }\n",
              "\n",
              "    .dataframe thead th {\n",
              "        text-align: right;\n",
              "    }\n",
              "</style>\n",
              "<table border=\"1\" class=\"dataframe\">\n",
              "  <thead>\n",
              "    <tr style=\"text-align: right;\">\n",
              "      <th></th>\n",
              "      <th>k = 1</th>\n",
              "      <th>k = 5</th>\n",
              "      <th>k = 10</th>\n",
              "      <th>k = 15</th>\n",
              "      <th>k = 20</th>\n",
              "    </tr>\n",
              "  </thead>\n",
              "  <tbody>\n",
              "    <tr>\n",
              "      <th>NDCG@K</th>\n",
              "      <td>0.164751</td>\n",
              "      <td>0.138703</td>\n",
              "      <td>0.132957</td>\n",
              "      <td>0.128302</td>\n",
              "      <td>0.128268</td>\n",
              "    </tr>\n",
              "    <tr>\n",
              "      <th>Surprisal@K</th>\n",
              "      <td>0.118290</td>\n",
              "      <td>0.133154</td>\n",
              "      <td>0.148769</td>\n",
              "      <td>0.161427</td>\n",
              "      <td>0.173662</td>\n",
              "    </tr>\n",
              "    <tr>\n",
              "      <th>HitRate@K</th>\n",
              "      <td>0.164751</td>\n",
              "      <td>0.327586</td>\n",
              "      <td>0.411877</td>\n",
              "      <td>0.461686</td>\n",
              "      <td>0.509579</td>\n",
              "    </tr>\n",
              "    <tr>\n",
              "      <th>Coverage@K</th>\n",
              "      <td>0.012831</td>\n",
              "      <td>0.025935</td>\n",
              "      <td>0.033852</td>\n",
              "      <td>0.037674</td>\n",
              "      <td>0.043134</td>\n",
              "    </tr>\n",
              "  </tbody>\n",
              "</table>\n",
              "</div>"
            ],
            "text/plain": [
              "                k = 1     k = 5    k = 10    k = 15    k = 20\n",
              "NDCG@K       0.164751  0.138703  0.132957  0.128302  0.128268\n",
              "Surprisal@K  0.118290  0.133154  0.148769  0.161427  0.173662\n",
              "HitRate@K    0.164751  0.327586  0.411877  0.461686  0.509579\n",
              "Coverage@K   0.012831  0.025935  0.033852  0.037674  0.043134"
            ]
          },
          "execution_count": 241,
          "metadata": {},
          "output_type": "execute_result"
        }
      ],
      "source": [
        "recoms_filtered = get_recommendations(\n",
        "    slim_model, train_csr_filtered, val_users, train_csr[val_users], True\n",
        ")\n",
        "compute_metrics(recoms_filtered, val_tr, train_tr, all_items, surprisal)"
      ]
    },
    {
      "attachments": {},
      "cell_type": "markdown",
      "metadata": {},
      "source": [
        "Попробуем подобрать гиперпараметры:"
      ]
    },
    {
      "cell_type": "code",
      "execution_count": 242,
      "metadata": {},
      "outputs": [],
      "source": [
        "from sklearn.model_selection import ParameterSampler\n",
        "from copy import deepcopy"
      ]
    },
    {
      "cell_type": "code",
      "execution_count": 250,
      "metadata": {},
      "outputs": [],
      "source": [
        "def tune_SLIM(param_grid: tp.Dict, n_iter: int = 10, seed: int = SEED) -> tp.Tuple:\n",
        "    ps = ParameterSampler(param_grid, n_iter=n_iter, random_state=seed)\n",
        "    best_model = None\n",
        "    best_score = 0.0\n",
        "    ndcg = NDCG(val_split_tr)\n",
        "    best_param = None\n",
        "    for param in ps:\n",
        "        print(f\"Testing with: {param}\")\n",
        "        model = SLIMRecommender(**param)\n",
        "        recoms = get_recommendations(\n",
        "            model, train_split_csr, val_split_users, train_split_csr[val_split_users]\n",
        "        )\n",
        "        curr_score = ndcg(recoms, K)\n",
        "        if curr_score > best_score:\n",
        "            best_score = curr_score\n",
        "            best_model = deepcopy(model)\n",
        "            best_param = param\n",
        "    return best_model, best_score, best_param"
      ]
    },
    {
      "cell_type": "code",
      "execution_count": 251,
      "metadata": {},
      "outputs": [
        {
          "name": "stdout",
          "output_type": "stream",
          "text": [
            "Testing with: {'b': 1.0, 'a': 0.1, 'K': 5}\n",
            "Testing with: {'b': 0.5, 'a': 0.01, 'K': 5}\n",
            "Testing with: {'b': 10.0, 'a': 0.5, 'K': 10}\n",
            "Testing with: {'b': 5.0, 'a': 10.0, 'K': 10}\n",
            "Testing with: {'b': 0.5, 'a': 100.0, 'K': 50}\n",
            "Testing with: {'b': 100.0, 'a': 0.01, 'K': 10}\n",
            "Testing with: {'b': 0.1, 'a': 1.0, 'K': 50}\n",
            "Testing with: {'b': 100.0, 'a': 0.5, 'K': 5}\n",
            "Testing with: {'b': 10.0, 'a': 1.0, 'K': 50}\n",
            "Testing with: {'b': 5.0, 'a': 10.0, 'K': 400}\n"
          ]
        },
        {
          "data": {
            "text/plain": [
              "(0.09587652697179216, {'b': 0.1, 'a': 1.0, 'K': 50})"
            ]
          },
          "execution_count": 251,
          "metadata": {},
          "output_type": "execute_result"
        }
      ],
      "source": [
        "param_grid = {\n",
        "    \"K\": [5, 10, 50, 100, 400],\n",
        "    \"a\": [1e-3, 1e-2, 0.1, 0.5, 1.0, 5.0, 10.0, 100.0],\n",
        "    \"b\": [1e-3, 1e-2, 0.1, 0.5, 1.0, 5.0, 10.0, 100.0]\n",
        "}\n",
        "best_model, best_score, best_param = tune_SLIM(param_grid)\n",
        "best_score, best_param"
      ]
    },
    {
      "cell_type": "code",
      "execution_count": 252,
      "metadata": {},
      "outputs": [
        {
          "data": {
            "text/html": [
              "<div>\n",
              "<style scoped>\n",
              "    .dataframe tbody tr th:only-of-type {\n",
              "        vertical-align: middle;\n",
              "    }\n",
              "\n",
              "    .dataframe tbody tr th {\n",
              "        vertical-align: top;\n",
              "    }\n",
              "\n",
              "    .dataframe thead th {\n",
              "        text-align: right;\n",
              "    }\n",
              "</style>\n",
              "<table border=\"1\" class=\"dataframe\">\n",
              "  <thead>\n",
              "    <tr style=\"text-align: right;\">\n",
              "      <th></th>\n",
              "      <th>k = 1</th>\n",
              "      <th>k = 5</th>\n",
              "      <th>k = 10</th>\n",
              "      <th>k = 15</th>\n",
              "      <th>k = 20</th>\n",
              "    </tr>\n",
              "  </thead>\n",
              "  <tbody>\n",
              "    <tr>\n",
              "      <th>NDCG@K</th>\n",
              "      <td>0.160920</td>\n",
              "      <td>0.129573</td>\n",
              "      <td>0.127367</td>\n",
              "      <td>0.128877</td>\n",
              "      <td>0.130062</td>\n",
              "    </tr>\n",
              "    <tr>\n",
              "      <th>Surprisal@K</th>\n",
              "      <td>0.136094</td>\n",
              "      <td>0.155206</td>\n",
              "      <td>0.166516</td>\n",
              "      <td>0.174300</td>\n",
              "      <td>0.180235</td>\n",
              "    </tr>\n",
              "    <tr>\n",
              "      <th>HitRate@K</th>\n",
              "      <td>0.160920</td>\n",
              "      <td>0.327586</td>\n",
              "      <td>0.423372</td>\n",
              "      <td>0.496169</td>\n",
              "      <td>0.553640</td>\n",
              "    </tr>\n",
              "    <tr>\n",
              "      <th>Coverage@K</th>\n",
              "      <td>0.031941</td>\n",
              "      <td>0.079989</td>\n",
              "      <td>0.113295</td>\n",
              "      <td>0.140595</td>\n",
              "      <td>0.160251</td>\n",
              "    </tr>\n",
              "  </tbody>\n",
              "</table>\n",
              "</div>"
            ],
            "text/plain": [
              "                k = 1     k = 5    k = 10    k = 15    k = 20\n",
              "NDCG@K       0.160920  0.129573  0.127367  0.128877  0.130062\n",
              "Surprisal@K  0.136094  0.155206  0.166516  0.174300  0.180235\n",
              "HitRate@K    0.160920  0.327586  0.423372  0.496169  0.553640\n",
              "Coverage@K   0.031941  0.079989  0.113295  0.140595  0.160251"
            ]
          },
          "execution_count": 252,
          "metadata": {},
          "output_type": "execute_result"
        }
      ],
      "source": [
        "slim_model = SLIMRecommender(**best_param)\n",
        "recoms = get_recommendations(\n",
        "    slim_model, train_csr, val_users, train_csr[val_users]\n",
        ")\n",
        "compute_metrics(recoms, val_tr, train_tr, all_items, surprisal)"
      ]
    },
    {
      "attachments": {},
      "cell_type": "markdown",
      "metadata": {},
      "source": [
        "**Вывод:**\n",
        "- после тьюнинга гиперпараметров, получили прирост качества, но сетки для подбора брались очень грубые\n",
        "- модель после применения `coordinate_descent` из `sklearn.linear_models.ElasticNet` к каждому весовому столбцу и после применения `feature_selection` стала быстрее обучаться"
      ]
    },
    {
      "cell_type": "code",
      "execution_count": null,
      "metadata": {
        "id": "PMCj9Vv_95tE"
      },
      "outputs": [],
      "source": []
    }
  ],
  "metadata": {
    "colab": {
      "provenance": []
    },
    "kernelspec": {
      "display_name": "Python 3 (ipykernel)",
      "language": "python",
      "name": "python3"
    },
    "language_info": {
      "codemirror_mode": {
        "name": "ipython",
        "version": 3
      },
      "file_extension": ".py",
      "mimetype": "text/x-python",
      "name": "python",
      "nbconvert_exporter": "python",
      "pygments_lexer": "ipython3",
      "version": "3.10.9"
    }
  },
  "nbformat": 4,
  "nbformat_minor": 0
}
